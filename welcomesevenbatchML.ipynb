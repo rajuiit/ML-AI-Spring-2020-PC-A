{
  "nbformat": 4,
  "nbformat_minor": 0,
  "metadata": {
    "colab": {
      "name": "welcomesevenbatchML.ipynb",
      "provenance": [],
      "authorship_tag": "ABX9TyNAcTrC9Vdm3J/cMyPbFDm7",
      "include_colab_link": true
    },
    "kernelspec": {
      "name": "python3",
      "display_name": "Python 3"
    }
  },
  "cells": [
    {
      "cell_type": "markdown",
      "metadata": {
        "id": "view-in-github",
        "colab_type": "text"
      },
      "source": [
        "<a href=\"https://colab.research.google.com/github/rajuiit/ML-AI-Spring-2020-PC-A/blob/main/welcomesevenbatchML.ipynb\" target=\"_parent\"><img src=\"https://colab.research.google.com/assets/colab-badge.svg\" alt=\"Open In Colab\"/></a>"
      ]
    },
    {
      "cell_type": "code",
      "metadata": {
        "colab": {
          "base_uri": "https://localhost:8080/"
        },
        "id": "CMXR36tQW5Dr",
        "outputId": "d56d9003-547f-461c-8814-3fdd8b9512f0"
      },
      "source": [
        "print(\"Hello Word\")"
      ],
      "execution_count": null,
      "outputs": [
        {
          "output_type": "stream",
          "text": [
            "Hello Word\n"
          ],
          "name": "stdout"
        }
      ]
    },
    {
      "cell_type": "code",
      "metadata": {
        "id": "fF0DTk7GXPIj"
      },
      "source": [
        "pip install"
      ],
      "execution_count": null,
      "outputs": []
    }
  ]
}